{
 "cells": [
  {
   "cell_type": "markdown",
   "metadata": {},
   "source": [
    "Gantt Chart"
   ]
  },
  {
   "cell_type": "code",
   "execution_count": null,
   "metadata": {},
   "outputs": [],
   "source": [
    "import matplotlib.pyplot as plt\n",
    "import matplotlib.font_manager as font_manager\n",
    "import matplotlib.dates\n",
    "from matplotlib.dates import WEEKLY,MONTHLY, DateFormatter, rrulewrapper, RRuleLocator \n",
    "import numpy as np\n",
    "import simulator"
   ]
  },
  {
   "cell_type": "code",
   "execution_count": null,
   "metadata": {},
   "outputs": [],
   "source": [
    "sim = simulator.Simulator()\n",
    "result = sim.simulation(20000)"
   ]
  },
  {
   "cell_type": "code",
   "execution_count": null,
   "metadata": {},
   "outputs": [],
   "source": [
    "\n",
    "\n",
    "\n",
    "ylabels = []\n",
    "customDates = []\n",
    "         \n",
    "ilen=len(ylabels)\n",
    "pos = np.arange(0.5,ilen*0.5+0.5,0.5)\n",
    "task_dates = {}\n",
    "for i,task in enumerate(ylabels):\n",
    "    task_dates[task] = customDates[i]\n",
    "fig = plt.figure(figsize=(20,8))\n",
    "ax = fig.add_subplot(111)\n",
    "for i in range(len(result)):\n",
    "     start_date = result[i][0]\n",
    "     end_date = result[i][1]\n",
    "     ax.barh((i*0.5)+0.5, end_date - start_date, left=start_date, height=0.3, align='center', edgecolor='lightgreen', color='orange', alpha = 0.8)\n",
    "locsy, labelsy = plt.yticks(pos,ylabels)\n",
    "plt.setp(labelsy, fontsize = 14)\n",
    "ax.axis('tight')\n",
    "ax.set_ylim(ymin = -0.1, ymax = ilen*0.5+0.5)\n",
    "ax.grid(color = 'g', linestyle = ':')\n",
    "ax.xaxis_date()\n",
    "rule = rrulewrapper(WEEKLY, interval=1)\n",
    "loc = RRuleLocator(rule)\n",
    "#formatter = DateFormatter(\"%d-%b '%y\")\n",
    "formatter = DateFormatter(\"%d-%b\")\n",
    "\n",
    "ax.xaxis.set_major_locator(loc)\n",
    "ax.xaxis.set_major_formatter(formatter)\n",
    "labelsx = ax.get_xticklabels()\n",
    "plt.setp(labelsx, rotation=30, fontsize=10)\n",
    "\n",
    "font = font_manager.FontProperties(size='small')\n",
    "ax.legend(loc=1,prop=font)\n",
    "\n",
    "ax.invert_yaxis()\n",
    "# fig.autofmt_xdate()\n",
    "# plt.savefig('gantt.svg')\n",
    "plt.show()"
   ]
  }
 ],
 "metadata": {
  "kernelspec": {
   "display_name": "Python 2",
   "language": "python",
   "name": "python2"
  },
  "language_info": {
   "codemirror_mode": {
    "name": "ipython",
    "version": 2
   },
   "file_extension": ".py",
   "mimetype": "text/x-python",
   "name": "python",
   "nbconvert_exporter": "python",
   "pygments_lexer": "ipython2",
   "version": "2.7.6"
  }
 },
 "nbformat": 4,
 "nbformat_minor": 0
}
